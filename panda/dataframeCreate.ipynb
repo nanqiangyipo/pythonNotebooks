{
 "cells": [
  {
   "cell_type": "code",
   "execution_count": 9,
   "metadata": {
    "collapsed": false
   },
   "outputs": [],
   "source": [
    "import pandas as pd\n",
    "from pandas import DataFrame,Series\n",
    "import numpy as np"
   ]
  },
  {
   "cell_type": "code",
   "execution_count": 6,
   "metadata": {
    "collapsed": false
   },
   "outputs": [],
   "source": [
    "wordVec = DataFrame([\n",
    "        (\"Hi I heard about Spark\".split(\" \"), ),\n",
    "        (\"I wish Java could use case classes\".split(\" \"), ),\n",
    "        (\"Logistic regression models are neat\".split(\" \"), )\n",
    "    ], columns=[\"text\"])"
   ]
  },
  {
   "cell_type": "code",
   "execution_count": 7,
   "metadata": {
    "collapsed": false
   },
   "outputs": [
    {
     "name": "stdout",
     "output_type": "stream",
     "text": [
      "                                         text\n",
      "0                [Hi, I, heard, about, Spark]\n",
      "1  [I, wish, Java, could, use, case, classes]\n",
      "2   [Logistic, regression, models, are, neat]\n"
     ]
    }
   ],
   "source": [
    "print(wordVec)"
   ]
  },
  {
   "cell_type": "code",
   "execution_count": 8,
   "metadata": {
    "collapsed": false
   },
   "outputs": [
    {
     "data": {
      "text/plain": [
       "(3, 1)"
      ]
     },
     "execution_count": 8,
     "metadata": {},
     "output_type": "execute_result"
    }
   ],
   "source": [
    "wordVec.shape"
   ]
  },
  {
   "cell_type": "code",
   "execution_count": 13,
   "metadata": {
    "collapsed": false
   },
   "outputs": [
    {
     "data": {
      "text/plain": [
       "array([[[[  9.71897907e-312,   8.03843612e-315,   8.03843438e-315],\n",
       "         [  8.03843470e-315,   9.71897902e-312,   8.03843470e-315]],\n",
       "\n",
       "        [[  8.03843470e-315,   8.03845146e-315,   8.03845272e-315],\n",
       "         [  8.03845130e-315,   8.03843422e-315,   8.03843422e-315]],\n",
       "\n",
       "        [[  8.03843422e-315,   9.71897907e-312,   8.03845146e-315],\n",
       "         [  9.71897907e-312,   8.03845272e-315,   9.71897907e-312]]],\n",
       "\n",
       "\n",
       "       [[[  8.03845130e-315,   9.71897908e-312,   8.03843501e-315],\n",
       "         [  8.03843422e-315,   9.71897902e-312,   9.71897906e-312]],\n",
       "\n",
       "        [[  9.71897906e-312,   9.71897906e-312,   9.71897909e-312],\n",
       "         [  9.71897906e-312,   9.71921566e-312,   0.00000000e+000]],\n",
       "\n",
       "        [[  0.00000000e+000,   0.00000000e+000,   0.00000000e+000],\n",
       "         [  0.00000000e+000,   4.94065646e-324,   9.71928833e-312]]]])"
      ]
     },
     "execution_count": 13,
     "metadata": {},
     "output_type": "execute_result"
    }
   ],
   "source": [
    "multiDim= np.ndarray((2,3,2,3))\n",
    "multiDim"
   ]
  },
  {
   "cell_type": "code",
   "execution_count": 14,
   "metadata": {
    "collapsed": false
   },
   "outputs": [
    {
     "data": {
      "text/plain": [
       "array([[0, 1],\n",
       "       [0, 1],\n",
       "       [0, 1],\n",
       "       [0, 1],\n",
       "       [0, 1],\n",
       "       [0, 1],\n",
       "       [0, 1],\n",
       "       [0, 1],\n",
       "       [0, 1],\n",
       "       [0, 1],\n",
       "       [1, 0],\n",
       "       [1, 0],\n",
       "       [1, 0],\n",
       "       [1, 0],\n",
       "       [1, 0],\n",
       "       [1, 0],\n",
       "       [1, 0],\n",
       "       [1, 0],\n",
       "       [1, 0],\n",
       "       [1, 0]])"
      ]
     },
     "execution_count": 14,
     "metadata": {},
     "output_type": "execute_result"
    }
   ],
   "source": [
    "positive_labels = [[0, 1] for _ in range(10)]\n",
    "negative_labels = [[1, 0] for _ in range(10)]\n",
    "y = np.concatenate([positive_labels, negative_labels], 0)\n"
   ]
  },
  {
   "cell_type": "code",
   "execution_count": 38,
   "metadata": {
    "collapsed": false
   },
   "outputs": [
    {
     "data": {
      "text/plain": [
       "array([14,  2,  1, 17,  4, 16,  6,  7, 15, 12,  9, 11, 19, 18, 13,  5,  0,\n",
       "        8,  3, 10])"
      ]
     },
     "execution_count": 38,
     "metadata": {},
     "output_type": "execute_result"
    }
   ],
   "source": [
    "np.random.seed(3)\n",
    "np.random.permutation(np.arange(len(y)))"
   ]
  },
  {
   "cell_type": "code",
   "execution_count": 36,
   "metadata": {
    "collapsed": false
   },
   "outputs": [
    {
     "data": {
      "text/plain": [
       "array([17, 11,  2,  9, 12,  6,  0,  8,  3,  4, 10, 19, 13, 18, 15, 16,  1,\n",
       "       14,  5,  7])"
      ]
     },
     "execution_count": 36,
     "metadata": {},
     "output_type": "execute_result"
    }
   ],
   "source": [
    "np.random.permutation(np.arange(len(y)))"
   ]
  },
  {
   "cell_type": "code",
   "execution_count": null,
   "metadata": {
    "collapsed": true
   },
   "outputs": [],
   "source": []
  }
 ],
 "metadata": {
  "kernelspec": {
   "display_name": "Python 3",
   "language": "python",
   "name": "python3"
  },
  "language_info": {
   "codemirror_mode": {
    "name": "ipython",
    "version": 3
   },
   "file_extension": ".py",
   "mimetype": "text/x-python",
   "name": "python",
   "nbconvert_exporter": "python",
   "pygments_lexer": "ipython3",
   "version": "3.5.2"
  }
 },
 "nbformat": 4,
 "nbformat_minor": 0
}
