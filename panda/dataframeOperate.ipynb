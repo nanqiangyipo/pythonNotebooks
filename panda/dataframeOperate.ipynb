{
 "cells": [
  {
   "cell_type": "code",
   "execution_count": 2,
   "metadata": {
    "collapsed": true
   },
   "outputs": [],
   "source": [
    "import pandas as pd \n",
    "import numpy as np\n",
    "from pandas import DataFrame,Series\n"
   ]
  },
  {
   "cell_type": "code",
   "execution_count": 3,
   "metadata": {
    "collapsed": false
   },
   "outputs": [],
   "source": [
    "df=DataFrame(data=np.ndarray((10,3)),columns=list('ABC'))"
   ]
  },
  {
   "cell_type": "code",
   "execution_count": 4,
   "metadata": {
    "collapsed": false
   },
   "outputs": [
    {
     "data": {
      "text/plain": [
       "A    1.751515e-314\n",
       "B    1.751515e-314\n",
       "C    1.751515e-314\n",
       "dtype: float64"
      ]
     },
     "execution_count": 4,
     "metadata": {},
     "output_type": "execute_result"
    }
   ],
   "source": [
    "df.loc[0]+df.loc[1]"
   ]
  },
  {
   "cell_type": "code",
   "execution_count": 26,
   "metadata": {
    "collapsed": false
   },
   "outputs": [],
   "source": [
    "df.loc[0]=Series(data=[1,2,3],index=list('ABC'))\n",
    "\n",
    "df.loc[3]=(df.loc[2]==df.loc[1])"
   ]
  },
  {
   "cell_type": "code",
   "execution_count": 18,
   "metadata": {
    "collapsed": false
   },
   "outputs": [
    {
     "name": "stderr",
     "output_type": "stream",
     "text": [
      "D:\\installed\\anaconda3.2.50\\lib\\site-packages\\pandas\\core\\internals.py:4417: FutureWarning: elementwise comparison failed; returning scalar instead, but in the future will perform elementwise comparison\n",
      "  comp = (nn == nn_at)\n"
     ]
    },
    {
     "data": {
      "text/plain": [
       "A    10\n",
       "B    10\n",
       "C    10\n",
       "dtype: object"
      ]
     },
     "execution_count": 18,
     "metadata": {},
     "output_type": "execute_result"
    }
   ],
   "source": [
    "re.replace(to_replace=True,value='10')"
   ]
  },
  {
   "cell_type": "code",
   "execution_count": 43,
   "metadata": {
    "collapsed": false
   },
   "outputs": [
    {
     "data": {
      "text/html": [
       "<div>\n",
       "<table border=\"1\" class=\"dataframe\">\n",
       "  <thead>\n",
       "    <tr style=\"text-align: right;\">\n",
       "      <th></th>\n",
       "      <th>A</th>\n",
       "      <th>B</th>\n",
       "      <th>C</th>\n",
       "    </tr>\n",
       "  </thead>\n",
       "  <tbody>\n",
       "    <tr>\n",
       "      <th>0</th>\n",
       "      <td>1</td>\n",
       "      <td>2</td>\n",
       "      <td>3</td>\n",
       "    </tr>\n",
       "    <tr>\n",
       "      <th>1</th>\n",
       "      <td>8.75757e-315</td>\n",
       "      <td>8.75757e-315</td>\n",
       "      <td>8.75757e-315</td>\n",
       "    </tr>\n",
       "    <tr>\n",
       "      <th>2</th>\n",
       "      <td>8.75757e-315</td>\n",
       "      <td>8.75757e-315</td>\n",
       "      <td>8.75757e-315</td>\n",
       "    </tr>\n",
       "    <tr>\n",
       "      <th>3</th>\n",
       "      <td>True</td>\n",
       "      <td>True</td>\n",
       "      <td>True</td>\n",
       "    </tr>\n",
       "    <tr>\n",
       "      <th>4</th>\n",
       "      <td>False</td>\n",
       "      <td>False</td>\n",
       "      <td>False</td>\n",
       "    </tr>\n",
       "    <tr>\n",
       "      <th>5</th>\n",
       "      <td>8.75757e-315</td>\n",
       "      <td>8.75757e-315</td>\n",
       "      <td>8.75757e-315</td>\n",
       "    </tr>\n",
       "    <tr>\n",
       "      <th>6</th>\n",
       "      <td>8.75757e-315</td>\n",
       "      <td>8.75757e-315</td>\n",
       "      <td>8.75757e-315</td>\n",
       "    </tr>\n",
       "    <tr>\n",
       "      <th>7</th>\n",
       "      <td>8.75757e-315</td>\n",
       "      <td>8.75757e-315</td>\n",
       "      <td>8.75757e-315</td>\n",
       "    </tr>\n",
       "    <tr>\n",
       "      <th>8</th>\n",
       "      <td>8.75757e-315</td>\n",
       "      <td>8.75757e-315</td>\n",
       "      <td>8.75757e-315</td>\n",
       "    </tr>\n",
       "    <tr>\n",
       "      <th>9</th>\n",
       "      <td>8.75757e-315</td>\n",
       "      <td>8.75757e-315</td>\n",
       "      <td>8.75757e-315</td>\n",
       "    </tr>\n",
       "    <tr>\n",
       "      <th>3</th>\n",
       "      <td>True</td>\n",
       "      <td>True</td>\n",
       "      <td>True</td>\n",
       "    </tr>\n",
       "  </tbody>\n",
       "</table>\n",
       "</div>"
      ],
      "text/plain": [
       "              A             B             C\n",
       "0             1             2             3\n",
       "1  8.75757e-315  8.75757e-315  8.75757e-315\n",
       "2  8.75757e-315  8.75757e-315  8.75757e-315\n",
       "3          True          True          True\n",
       "4         False         False         False\n",
       "5  8.75757e-315  8.75757e-315  8.75757e-315\n",
       "6  8.75757e-315  8.75757e-315  8.75757e-315\n",
       "7  8.75757e-315  8.75757e-315  8.75757e-315\n",
       "8  8.75757e-315  8.75757e-315  8.75757e-315\n",
       "9  8.75757e-315  8.75757e-315  8.75757e-315\n",
       "3          True          True          True"
      ]
     },
     "execution_count": 43,
     "metadata": {},
     "output_type": "execute_result"
    }
   ],
   "source": [
    "df"
   ]
  },
  {
   "cell_type": "code",
   "execution_count": 37,
   "metadata": {
    "collapsed": false
   },
   "outputs": [
    {
     "data": {
      "text/plain": [
       "A    <class 'bool'>\n",
       "B    <class 'bool'>\n",
       "C    <class 'bool'>\n",
       "Name: 3, dtype: object"
      ]
     },
     "execution_count": 37,
     "metadata": {},
     "output_type": "execute_result"
    }
   ],
   "source": [
    "df.loc[3].apply(lambda x:type(x))"
   ]
  },
  {
   "cell_type": "code",
   "execution_count": 48,
   "metadata": {
    "collapsed": false
   },
   "outputs": [],
   "source": [
    "df.loc[3]=df.loc[3].astype(float)"
   ]
  },
  {
   "cell_type": "code",
   "execution_count": 41,
   "metadata": {
    "collapsed": false
   },
   "outputs": [],
   "source": [
    "df.loc[4]=(df.loc[0]==df.loc[1])"
   ]
  },
  {
   "cell_type": "code",
   "execution_count": 50,
   "metadata": {
    "collapsed": false
   },
   "outputs": [
    {
     "data": {
      "text/plain": [
       "A    0\n",
       "B    0\n",
       "C    0\n",
       "Name: 4, dtype: float64"
      ]
     },
     "execution_count": 50,
     "metadata": {},
     "output_type": "execute_result"
    }
   ],
   "source": [
    "df.loc[4].astype(float,inplace=False)"
   ]
  },
  {
   "cell_type": "code",
   "execution_count": 52,
   "metadata": {
    "collapsed": false
   },
   "outputs": [],
   "source": [
    "df.loc[5]=1"
   ]
  },
  {
   "cell_type": "code",
   "execution_count": 53,
   "metadata": {
    "collapsed": false
   },
   "outputs": [
    {
     "data": {
      "text/html": [
       "<div>\n",
       "<table border=\"1\" class=\"dataframe\">\n",
       "  <thead>\n",
       "    <tr style=\"text-align: right;\">\n",
       "      <th></th>\n",
       "      <th>A</th>\n",
       "      <th>B</th>\n",
       "      <th>C</th>\n",
       "    </tr>\n",
       "  </thead>\n",
       "  <tbody>\n",
       "    <tr>\n",
       "      <th>0</th>\n",
       "      <td>1</td>\n",
       "      <td>2</td>\n",
       "      <td>3</td>\n",
       "    </tr>\n",
       "    <tr>\n",
       "      <th>1</th>\n",
       "      <td>8.75757e-315</td>\n",
       "      <td>8.75757e-315</td>\n",
       "      <td>8.75757e-315</td>\n",
       "    </tr>\n",
       "    <tr>\n",
       "      <th>2</th>\n",
       "      <td>8.75757e-315</td>\n",
       "      <td>8.75757e-315</td>\n",
       "      <td>8.75757e-315</td>\n",
       "    </tr>\n",
       "    <tr>\n",
       "      <th>3</th>\n",
       "      <td>1</td>\n",
       "      <td>1</td>\n",
       "      <td>1</td>\n",
       "    </tr>\n",
       "    <tr>\n",
       "      <th>4</th>\n",
       "      <td>False</td>\n",
       "      <td>False</td>\n",
       "      <td>False</td>\n",
       "    </tr>\n",
       "    <tr>\n",
       "      <th>5</th>\n",
       "      <td>1</td>\n",
       "      <td>1</td>\n",
       "      <td>1</td>\n",
       "    </tr>\n",
       "    <tr>\n",
       "      <th>6</th>\n",
       "      <td>8.75757e-315</td>\n",
       "      <td>8.75757e-315</td>\n",
       "      <td>8.75757e-315</td>\n",
       "    </tr>\n",
       "    <tr>\n",
       "      <th>7</th>\n",
       "      <td>8.75757e-315</td>\n",
       "      <td>8.75757e-315</td>\n",
       "      <td>8.75757e-315</td>\n",
       "    </tr>\n",
       "    <tr>\n",
       "      <th>8</th>\n",
       "      <td>8.75757e-315</td>\n",
       "      <td>8.75757e-315</td>\n",
       "      <td>8.75757e-315</td>\n",
       "    </tr>\n",
       "    <tr>\n",
       "      <th>9</th>\n",
       "      <td>8.75757e-315</td>\n",
       "      <td>8.75757e-315</td>\n",
       "      <td>8.75757e-315</td>\n",
       "    </tr>\n",
       "    <tr>\n",
       "      <th>3</th>\n",
       "      <td>True</td>\n",
       "      <td>True</td>\n",
       "      <td>True</td>\n",
       "    </tr>\n",
       "  </tbody>\n",
       "</table>\n",
       "</div>"
      ],
      "text/plain": [
       "              A             B             C\n",
       "0             1             2             3\n",
       "1  8.75757e-315  8.75757e-315  8.75757e-315\n",
       "2  8.75757e-315  8.75757e-315  8.75757e-315\n",
       "3             1             1             1\n",
       "4         False         False         False\n",
       "5             1             1             1\n",
       "6  8.75757e-315  8.75757e-315  8.75757e-315\n",
       "7  8.75757e-315  8.75757e-315  8.75757e-315\n",
       "8  8.75757e-315  8.75757e-315  8.75757e-315\n",
       "9  8.75757e-315  8.75757e-315  8.75757e-315\n",
       "3          True          True          True"
      ]
     },
     "execution_count": 53,
     "metadata": {},
     "output_type": "execute_result"
    }
   ],
   "source": [
    "df"
   ]
  },
  {
   "cell_type": "markdown",
   "metadata": {},
   "source": [
    "更改dataframe元素的类型，并更新"
   ]
  },
  {
   "cell_type": "code",
   "execution_count": 35,
   "metadata": {
    "collapsed": false
   },
   "outputs": [
    {
     "data": {
      "text/html": [
       "<div>\n",
       "<table border=\"1\" class=\"dataframe\">\n",
       "  <thead>\n",
       "    <tr style=\"text-align: right;\">\n",
       "      <th></th>\n",
       "      <th>A</th>\n",
       "      <th>B</th>\n",
       "      <th>C</th>\n",
       "    </tr>\n",
       "  </thead>\n",
       "  <tbody>\n",
       "    <tr>\n",
       "      <th>0</th>\n",
       "      <td>9.60628324733e-312_s</td>\n",
       "      <td>9.60628607971e-312_b</td>\n",
       "      <td>9.60628602007e-312_h</td>\n",
       "    </tr>\n",
       "    <tr>\n",
       "      <th>1</th>\n",
       "      <td>9.60628602034e-312_s</td>\n",
       "      <td>9.60628613505e-312_b</td>\n",
       "      <td>9.60628611995e-312_h</td>\n",
       "    </tr>\n",
       "    <tr>\n",
       "      <th>2</th>\n",
       "      <td>9.60628613433e-312_s</td>\n",
       "      <td>9.60628612026e-312_b</td>\n",
       "      <td>9.60628613576e-312_h</td>\n",
       "    </tr>\n",
       "    <tr>\n",
       "      <th>3</th>\n",
       "      <td>9.60628562027e-312_s</td>\n",
       "      <td>9.60628613647e-312_b</td>\n",
       "      <td>9.60628562098e-312_h</td>\n",
       "    </tr>\n",
       "    <tr>\n",
       "      <th>4</th>\n",
       "      <td>9.60628613718e-312_s</td>\n",
       "      <td>9.60628612058e-312_b</td>\n",
       "      <td>9.60628613789e-312_h</td>\n",
       "    </tr>\n",
       "    <tr>\n",
       "      <th>5</th>\n",
       "      <td>9.60628562169e-312_s</td>\n",
       "      <td>8.038434224e-315_b</td>\n",
       "      <td>9.60586055251e-312_h</td>\n",
       "    </tr>\n",
       "    <tr>\n",
       "      <th>6</th>\n",
       "      <td>9.6062860809e-312_s</td>\n",
       "      <td>8.0384343821e-315_b</td>\n",
       "      <td>9.60628608129e-312_h</td>\n",
       "    </tr>\n",
       "    <tr>\n",
       "      <th>7</th>\n",
       "      <td>8.03764790864e-315_s</td>\n",
       "      <td>9.60628612386e-312_b</td>\n",
       "      <td>1.33360289376e+241_h</td>\n",
       "    </tr>\n",
       "    <tr>\n",
       "      <th>8</th>\n",
       "      <td>3.06610039487e+185_s</td>\n",
       "      <td>1.67492582437e+243_b</td>\n",
       "      <td>7.30927250087e-114_h</td>\n",
       "    </tr>\n",
       "    <tr>\n",
       "      <th>9</th>\n",
       "      <td>4.03227008004e+175_s</td>\n",
       "      <td>1.63794987749e-307_b</td>\n",
       "      <td>-3.38460729712e+125_h</td>\n",
       "    </tr>\n",
       "  </tbody>\n",
       "</table>\n",
       "</div>"
      ],
      "text/plain": [
       "                      A                     B                      C\n",
       "0  9.60628324733e-312_s  9.60628607971e-312_b   9.60628602007e-312_h\n",
       "1  9.60628602034e-312_s  9.60628613505e-312_b   9.60628611995e-312_h\n",
       "2  9.60628613433e-312_s  9.60628612026e-312_b   9.60628613576e-312_h\n",
       "3  9.60628562027e-312_s  9.60628613647e-312_b   9.60628562098e-312_h\n",
       "4  9.60628613718e-312_s  9.60628612058e-312_b   9.60628613789e-312_h\n",
       "5  9.60628562169e-312_s    8.038434224e-315_b   9.60586055251e-312_h\n",
       "6   9.6062860809e-312_s   8.0384343821e-315_b   9.60628608129e-312_h\n",
       "7  8.03764790864e-315_s  9.60628612386e-312_b   1.33360289376e+241_h\n",
       "8  3.06610039487e+185_s  1.67492582437e+243_b   7.30927250087e-114_h\n",
       "9  4.03227008004e+175_s  1.63794987749e-307_b  -3.38460729712e+125_h"
      ]
     },
     "execution_count": 35,
     "metadata": {},
     "output_type": "execute_result"
    }
   ],
   "source": [
    "df.astype('str')+['_s','_b','_h']"
   ]
  },
  {
   "cell_type": "code",
   "execution_count": 29,
   "metadata": {
    "collapsed": false
   },
   "outputs": [],
   "source": [
    "col=df.columns.tolist()"
   ]
  },
  {
   "cell_type": "code",
   "execution_count": 30,
   "metadata": {
    "collapsed": false
   },
   "outputs": [
    {
     "data": {
      "text/plain": [
       "['A', 'B', 'C']"
      ]
     },
     "execution_count": 30,
     "metadata": {},
     "output_type": "execute_result"
    }
   ],
   "source": [
    "col"
   ]
  },
  {
   "cell_type": "code",
   "execution_count": 32,
   "metadata": {
    "collapsed": false
   },
   "outputs": [
    {
     "data": {
      "text/plain": [
       "['N', 'B', 'C']"
      ]
     },
     "execution_count": 32,
     "metadata": {},
     "output_type": "execute_result"
    }
   ],
   "source": [
    "col[0]='N'\n",
    "col"
   ]
  },
  {
   "cell_type": "code",
   "execution_count": 33,
   "metadata": {
    "collapsed": false
   },
   "outputs": [
    {
     "data": {
      "text/plain": [
       "Index(['A', 'B', 'C'], dtype='object')"
      ]
     },
     "execution_count": 33,
     "metadata": {},
     "output_type": "execute_result"
    }
   ],
   "source": [
    "df.columns"
   ]
  },
  {
   "cell_type": "code",
   "execution_count": null,
   "metadata": {
    "collapsed": true
   },
   "outputs": [],
   "source": []
  }
 ],
 "metadata": {
  "kernelspec": {
   "display_name": "Python 3",
   "language": "python",
   "name": "python3"
  },
  "language_info": {
   "codemirror_mode": {
    "name": "ipython",
    "version": 3
   },
   "file_extension": ".py",
   "mimetype": "text/x-python",
   "name": "python",
   "nbconvert_exporter": "python",
   "pygments_lexer": "ipython3",
   "version": "3.5.2"
  }
 },
 "nbformat": 4,
 "nbformat_minor": 0
}
