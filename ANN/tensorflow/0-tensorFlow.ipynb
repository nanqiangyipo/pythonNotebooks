{
 "cells": [
  {
   "cell_type": "markdown",
   "metadata": {
    "collapsed": true
   },
   "source": [
    "使用TensorFlow，你必须明白TensorFlow：\n",
    "\n",
    "使用图(graph)来表示任务\n",
    "被称之为会话(Session)的上下文(context)中执行图\n",
    "使用tensor表示数据\n",
    "通过变量(Variable)维护状态\n",
    "使用feed和fetch可以为任意操作(arbitrary operation)赋值或者从其中获取数据\n",
    "综述\n",
    "\n",
    "TensorFlow是一个编程系统，使用图来表示计算任务，图中的节点被称之为op（operation的缩写），一个op获得0个或者多个tensor，执行计算，产生0个或多个tensor。每个tensor是一个类型化的多维数组。例如，你可以将一组图像素集表示为一个四维浮点数数组，这四个维度分别是[batch, height, width, channels]。\n",
    "\n",
    "一个TensorFlow图描述了计算的过程，为了进行计算，图必须在会话里被启动，会话将图的op分发到诸如CPU或GPU之类的设备上，同时提供执行op的方法，这些方法执行后，将产生的tensor返回。在Python语言中，返回的tensor是numpy ndarry对象；在C/C++语言中，返回的是tensor是tensorflow::Tensor实例。\n",
    "\n",
    "计算图\n",
    "\n",
    "Tensorflow程序通常被组织成一个构建阶段和一个执行阶段，在构建阶段，op的执行步骤被描述成为一个图，在执行阶段，使用会话执行图中的op。\n",
    "\n",
    "例如，通常在构建阶段创建一个图来表示和训练神经网络，然后在执行阶段反复执行图中的训练op。\n",
    "\n",
    "Tensorflow支持C/C++，python编程语言。目前，TensorFlow的python库更易使用，它提供了大量的辅助函数来简化构建图的工作，这些函数尚未被C/C++库支持。\n",
    "\n",
    "三种语言的会话库(session libraries)是一致的。\n",
    "\n",
    "构建图\n",
    "\n",
    "构件图的第一步是创建源op (source op)。源op不需要任何输入。源op的输出被传递给其它op做运算。\n",
    "\n",
    "python库中，op构造器的返回值代表被构造出的op输出，这些返回值可以传递给其它op作为输入。\n",
    "\n",
    "TensorFlow Python库中有一个默认图(default graph)，op构造器可以为其增加节点。这个默认图对许多程序来说已经足够用了，可以阅读Graph类文档，来了解如何管理多个视图。"
   ]
  },
  {
   "cell_type": "code",
   "execution_count": 20,
   "metadata": {
    "collapsed": true
   },
   "outputs": [],
   "source": [
    "import tensorflow as tf "
   ]
  },
  {
   "cell_type": "code",
   "execution_count": 29,
   "metadata": {
    "collapsed": false
   },
   "outputs": [],
   "source": [
    "# 创建一个常量op， 产生一个1x2矩阵，这个op被作为一个节点\n",
    "# 加到默认视图中\n",
    "# 构造器的返回值代表该常量op的返回值\n",
    "matrix1 = tf.constant([[3., 3.]])"
   ]
  },
  {
   "cell_type": "code",
   "execution_count": 30,
   "metadata": {
    "collapsed": false
   },
   "outputs": [],
   "source": [
    "# 创建另一个常量op, 产生一个2x1的矩阵\n",
    "matrix2 = tf.constant([[2.], [2.]])"
   ]
  },
  {
   "cell_type": "code",
   "execution_count": 31,
   "metadata": {
    "collapsed": true
   },
   "outputs": [],
   "source": [
    "# 创建一个矩阵乘法matmul op，把matrix1和matrix2作为输入：\n",
    "product = tf.matmul(matrix1, matrix2)"
   ]
  },
  {
   "cell_type": "markdown",
   "metadata": {},
   "source": [
    "现在，默认图现在有三个节点，两个constant() op和matmul() op。为了真正进行矩阵乘法的结果，你必须在会话里启动这个图。\n",
    "\n",
    "在一个会话中启动图\n",
    "\n",
    "构造阶段完成后，才能启动图。启动图的第一步是创建一个Session对象，如果无任何创建参数，会话构造器将无法启动默认图。\n",
    "\n",
    "欲了解完整的会话API，请阅读Session类。"
   ]
  },
  {
   "cell_type": "code",
   "execution_count": 32,
   "metadata": {
    "collapsed": true
   },
   "outputs": [],
   "source": [
    "#启动默认的图\n",
    "sess = tf.Session()"
   ]
  },
  {
   "cell_type": "markdown",
   "metadata": {},
   "source": [
    "调用sess的'run()' 方法来执行矩阵乘法op，传入'product'作为该方法的参数\n",
    "上面提到，'product'代表了矩阵乘法op的输出，传入它是向方法表明，我们希望取回\n",
    "矩阵乘法op的输出。\n",
    "\n",
    "整个执行过程是自动化的，会话负责传递op所需的全部输入。op通常是并发执行的。\n",
    "\n",
    "函数调用'run(product)' 触发了图中三个op（两个常量op和一个矩阵乘法op）的执行。\n",
    "返回值'result'是一个numpy 'ndarray'对象。"
   ]
  },
  {
   "cell_type": "code",
   "execution_count": 33,
   "metadata": {
    "collapsed": false
   },
   "outputs": [
    {
     "name": "stdout",
     "output_type": "stream",
     "text": [
      "[[ 12.]]\n"
     ]
    }
   ],
   "source": [
    "result = sess.run(product)\n",
    "print(result)"
   ]
  },
  {
   "cell_type": "code",
   "execution_count": 35,
   "metadata": {
    "collapsed": true
   },
   "outputs": [],
   "source": [
    "# 完成任务，关闭会话\n",
    "sess.close()"
   ]
  },
  {
   "cell_type": "code",
   "execution_count": null,
   "metadata": {
    "collapsed": true
   },
   "outputs": [],
   "source": []
  }
 ],
 "metadata": {
  "kernelspec": {
   "display_name": "Python 2",
   "language": "python",
   "name": "python2"
  },
  "language_info": {
   "codemirror_mode": {
    "name": "ipython",
    "version": 2
   },
   "file_extension": ".py",
   "mimetype": "text/x-python",
   "name": "python",
   "nbconvert_exporter": "python",
   "pygments_lexer": "ipython2",
   "version": "2.7.6"
  }
 },
 "nbformat": 4,
 "nbformat_minor": 0
}
