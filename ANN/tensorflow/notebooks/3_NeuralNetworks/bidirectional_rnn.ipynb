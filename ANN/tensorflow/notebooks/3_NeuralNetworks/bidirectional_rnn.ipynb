{
 "cells": [
  {
   "cell_type": "code",
   "execution_count": 1,
   "metadata": {
    "collapsed": false
   },
   "outputs": [
    {
     "data": {
      "text/plain": [
       "'\\nA Bidirectional Reccurent Neural Network (LSTM) implementation example using TensorFlow library.\\nThis example is using the MNIST database of handwritten digits (http://yann.lecun.com/exdb/mnist/)\\nLong Short Term Memory paper: http://deeplearning.cs.cmu.edu/pdfs/Hochreiter97_lstm.pdf\\n\\nAuthor: Aymeric Damien\\nProject: https://github.com/aymericdamien/TensorFlow-Examples/\\n'"
      ]
     },
     "execution_count": 1,
     "metadata": {},
     "output_type": "execute_result"
    }
   ],
   "source": [
    "'''\n",
    "A Bidirectional Reccurent Neural Network (LSTM) implementation example using TensorFlow library.\n",
    "This example is using the MNIST database of handwritten digits (http://yann.lecun.com/exdb/mnist/)\n",
    "Long Short Term Memory paper: http://deeplearning.cs.cmu.edu/pdfs/Hochreiter97_lstm.pdf\n",
    "\n",
    "Author: Aymeric Damien\n",
    "Project: https://github.com/aymericdamien/TensorFlow-Examples/\n",
    "'''"
   ]
  },
  {
   "cell_type": "code",
   "execution_count": 2,
   "metadata": {
    "collapsed": false
   },
   "outputs": [
    {
     "name": "stdout",
     "output_type": "stream",
     "text": [
      "Extracting /tmp/data/train-images-idx3-ubyte.gz\n",
      "Extracting /tmp/data/train-labels-idx1-ubyte.gz\n",
      "Extracting /tmp/data/t10k-images-idx3-ubyte.gz\n",
      "Extracting /tmp/data/t10k-labels-idx1-ubyte.gz\n"
     ]
    }
   ],
   "source": [
    "import tensorflow as tf\n",
    "#from tensorflow.models.rnn import rnn, rnn_cell\n",
    "import numpy as np\n",
    "\n",
    "# Import MINST data\n",
    "from tensorflow.examples.tutorials.mnist import input_data\n",
    "mnist = input_data.read_data_sets(\"/tmp/data/\", one_hot=True)"
   ]
  },
  {
   "cell_type": "code",
   "execution_count": 3,
   "metadata": {
    "collapsed": false
   },
   "outputs": [
    {
     "data": {
      "text/plain": [
       "'\\nTo classify images using a bidirectional reccurent neural network, we consider\\nevery image row as a sequence of pixels. Because MNIST image shape is 28*28px,\\nwe will then handle 28 sequences of 28 steps for every sample.\\n'"
      ]
     },
     "execution_count": 3,
     "metadata": {},
     "output_type": "execute_result"
    }
   ],
   "source": [
    "'''\n",
    "To classify images using a bidirectional reccurent neural network, we consider\n",
    "every image row as a sequence of pixels. Because MNIST image shape is 28*28px,\n",
    "we will then handle 28 sequences of 28 steps for every sample.\n",
    "'''"
   ]
  },
  {
   "cell_type": "code",
   "execution_count": 4,
   "metadata": {
    "collapsed": true
   },
   "outputs": [],
   "source": [
    "# Parameters\n",
    "learning_rate = 0.001\n",
    "training_iters = 100000\n",
    "batch_size = 128\n",
    "display_step = 10\n",
    "\n",
    "# Network Parameters\n",
    "n_input = 28 # MNIST data input (img shape: 28*28)\n",
    "n_steps = 28 # timesteps\n",
    "n_hidden = 128 # hidden layer num of features\n",
    "n_classes = 10 # MNIST total classes (0-9 digits)\n",
    "\n",
    "# tf Graph input\n",
    "x = tf.placeholder(\"float\", [None, n_steps, n_input])\n",
    "y = tf.placeholder(\"float\", [None, n_classes])\n",
    "\n",
    "# Define weights\n",
    "weights = {\n",
    "    # Hidden layer weights => 2*n_hidden because of foward + backward cells\n",
    "    'out': tf.Variable(tf.random_normal([2*n_hidden, n_classes]))\n",
    "}\n",
    "biases = {\n",
    "    'out': tf.Variable(tf.random_normal([n_classes]))\n",
    "}"
   ]
  },
  {
   "cell_type": "code",
   "execution_count": 5,
   "metadata": {
    "collapsed": false
   },
   "outputs": [],
   "source": [
    "def BiRNN(x, weights, biases):\n",
    "\n",
    "    # Prepare data shape to match `bidirectional_rnn` function requirements\n",
    "    # Current data input shape: (batch_size, n_steps, n_input)\n",
    "    # Required shape: 'n_steps' tensors list of shape (batch_size, n_input)\n",
    "    \n",
    "    # Permuting batch_size and n_steps\n",
    "    x = tf.transpose(x, [1, 0, 2])\n",
    "    # Reshape to (n_steps*batch_size, n_input)\n",
    "    x = tf.reshape(x, [-1, n_input])\n",
    "    # Split to get a list of 'n_steps' tensors of shape (batch_size, n_input)\n",
    "    x = tf.split(0, n_steps, x)\n",
    "\n",
    "    # Define lstm cells with tensorflow\n",
    "    # Forward direction cell\n",
    "    lstm_fw_cell = tf.nn.rnn_cell.BasicLSTMCell(n_hidden, forget_bias=1.0, state_is_tuple=True)\n",
    "    # Backward direction cell\n",
    "    lstm_bw_cell = tf.nn.rnn_cell.BasicLSTMCell(n_hidden, forget_bias=1.0, state_is_tuple=True)\n",
    "\n",
    "    # Get lstm cell output\n",
    "    try:\n",
    "        outputs, _, _ = tf.nn.bidirectional_rnn(lstm_fw_cell, lstm_bw_cell, x,\n",
    "                                              dtype=tf.float32)\n",
    "    except Exception: # Old TensorFlow version only returns outputs not states\n",
    "        outputs = tf.nn.bidirectional_rnn(lstm_fw_cell, lstm_bw_cell, x,\n",
    "                                        dtype=tf.float32)\n",
    "\n",
    "    # Linear activation, using rnn inner loop last output\n",
    "    return tf.matmul(outputs[-1], weights['out']) + biases['out']\n",
    "\n",
    "pred = BiRNN(x, weights, biases)\n",
    "\n",
    "# Define loss and optimizer\n",
    "cost = tf.reduce_mean(tf.nn.softmax_cross_entropy_with_logits(pred, y))\n",
    "optimizer = tf.train.AdamOptimizer(learning_rate=learning_rate).minimize(cost)\n",
    "\n",
    "# Evaluate model\n",
    "correct_pred = tf.equal(tf.argmax(pred,1), tf.argmax(y,1))\n",
    "accuracy = tf.reduce_mean(tf.cast(correct_pred, tf.float32))\n",
    "\n",
    "# Initializing the variables\n",
    "init = tf.initialize_all_variables()"
   ]
  },
  {
   "cell_type": "code",
   "execution_count": 6,
   "metadata": {
    "collapsed": false
   },
   "outputs": [
    {
     "name": "stdout",
     "output_type": "stream",
     "text": [
      "Iter 1280, Minibatch Loss= 1.789025, Training Accuracy= 0.38281\n",
      "Iter 2560, Minibatch Loss= 1.480223, Training Accuracy= 0.56250\n",
      "Iter 3840, Minibatch Loss= 1.155409, Training Accuracy= 0.56250\n",
      "Iter 5120, Minibatch Loss= 0.963234, Training Accuracy= 0.68750\n",
      "Iter 6400, Minibatch Loss= 0.748031, Training Accuracy= 0.76562\n",
      "Iter 7680, Minibatch Loss= 1.101691, Training Accuracy= 0.64844\n",
      "Iter 8960, Minibatch Loss= 0.673965, Training Accuracy= 0.78906\n",
      "Iter 10240, Minibatch Loss= 0.592218, Training Accuracy= 0.82812\n",
      "Iter 11520, Minibatch Loss= 0.330905, Training Accuracy= 0.89844\n",
      "Iter 12800, Minibatch Loss= 0.505935, Training Accuracy= 0.82031\n",
      "Iter 14080, Minibatch Loss= 0.466606, Training Accuracy= 0.85938\n",
      "Iter 15360, Minibatch Loss= 0.292186, Training Accuracy= 0.91406\n",
      "Iter 16640, Minibatch Loss= 0.394691, Training Accuracy= 0.89062\n",
      "Iter 17920, Minibatch Loss= 0.253635, Training Accuracy= 0.90625\n",
      "Iter 19200, Minibatch Loss= 0.264912, Training Accuracy= 0.90625\n",
      "Iter 20480, Minibatch Loss= 0.151567, Training Accuracy= 0.94531\n",
      "Iter 21760, Minibatch Loss= 0.461813, Training Accuracy= 0.82031\n",
      "Iter 23040, Minibatch Loss= 0.132343, Training Accuracy= 0.96094\n",
      "Iter 24320, Minibatch Loss= 0.329376, Training Accuracy= 0.87500\n",
      "Iter 25600, Minibatch Loss= 0.398248, Training Accuracy= 0.88281\n",
      "Iter 26880, Minibatch Loss= 0.232664, Training Accuracy= 0.92188\n",
      "Iter 28160, Minibatch Loss= 0.222482, Training Accuracy= 0.92969\n",
      "Iter 29440, Minibatch Loss= 0.260265, Training Accuracy= 0.93750\n",
      "Iter 30720, Minibatch Loss= 0.247717, Training Accuracy= 0.90625\n",
      "Iter 32000, Minibatch Loss= 0.175616, Training Accuracy= 0.93750\n",
      "Iter 33280, Minibatch Loss= 0.201085, Training Accuracy= 0.92969\n",
      "Iter 34560, Minibatch Loss= 0.273205, Training Accuracy= 0.90625\n",
      "Iter 35840, Minibatch Loss= 0.199142, Training Accuracy= 0.93750\n",
      "Iter 37120, Minibatch Loss= 0.214316, Training Accuracy= 0.91406\n",
      "Iter 38400, Minibatch Loss= 0.096575, Training Accuracy= 0.97656\n",
      "Iter 39680, Minibatch Loss= 0.144735, Training Accuracy= 0.95312\n",
      "Iter 40960, Minibatch Loss= 0.309689, Training Accuracy= 0.89844\n",
      "Iter 42240, Minibatch Loss= 0.185231, Training Accuracy= 0.93750\n",
      "Iter 43520, Minibatch Loss= 0.153661, Training Accuracy= 0.93750\n",
      "Iter 44800, Minibatch Loss= 0.143649, Training Accuracy= 0.93750\n",
      "Iter 46080, Minibatch Loss= 0.091573, Training Accuracy= 0.96875\n",
      "Iter 47360, Minibatch Loss= 0.226263, Training Accuracy= 0.94531\n",
      "Iter 48640, Minibatch Loss= 0.233987, Training Accuracy= 0.92188\n",
      "Iter 49920, Minibatch Loss= 0.234522, Training Accuracy= 0.91406\n",
      "Iter 51200, Minibatch Loss= 0.109951, Training Accuracy= 0.94531\n",
      "Iter 52480, Minibatch Loss= 0.210639, Training Accuracy= 0.92969\n",
      "Iter 53760, Minibatch Loss= 0.052214, Training Accuracy= 0.96875\n",
      "Iter 55040, Minibatch Loss= 0.237387, Training Accuracy= 0.90625\n",
      "Iter 56320, Minibatch Loss= 0.101453, Training Accuracy= 0.96094\n",
      "Iter 57600, Minibatch Loss= 0.077766, Training Accuracy= 0.97656\n",
      "Iter 58880, Minibatch Loss= 0.168778, Training Accuracy= 0.95312\n",
      "Iter 60160, Minibatch Loss= 0.113589, Training Accuracy= 0.96875\n",
      "Iter 61440, Minibatch Loss= 0.104130, Training Accuracy= 0.99219\n",
      "Iter 62720, Minibatch Loss= 0.106409, Training Accuracy= 0.96875\n",
      "Iter 64000, Minibatch Loss= 0.123478, Training Accuracy= 0.96094\n",
      "Iter 65280, Minibatch Loss= 0.148584, Training Accuracy= 0.96094\n",
      "Iter 66560, Minibatch Loss= 0.100163, Training Accuracy= 0.96094\n",
      "Iter 67840, Minibatch Loss= 0.133186, Training Accuracy= 0.96875\n",
      "Iter 69120, Minibatch Loss= 0.143667, Training Accuracy= 0.96875\n",
      "Iter 70400, Minibatch Loss= 0.133300, Training Accuracy= 0.95312\n",
      "Iter 71680, Minibatch Loss= 0.079104, Training Accuracy= 0.98438\n",
      "Iter 72960, Minibatch Loss= 0.068073, Training Accuracy= 0.98438\n",
      "Iter 74240, Minibatch Loss= 0.178123, Training Accuracy= 0.95312\n",
      "Iter 75520, Minibatch Loss= 0.064518, Training Accuracy= 0.97656\n",
      "Iter 76800, Minibatch Loss= 0.131956, Training Accuracy= 0.94531\n",
      "Iter 78080, Minibatch Loss= 0.098013, Training Accuracy= 0.96875\n",
      "Iter 79360, Minibatch Loss= 0.095600, Training Accuracy= 0.96875\n",
      "Iter 80640, Minibatch Loss= 0.108798, Training Accuracy= 0.97656\n",
      "Iter 81920, Minibatch Loss= 0.091421, Training Accuracy= 0.96094\n",
      "Iter 83200, Minibatch Loss= 0.118324, Training Accuracy= 0.93750\n",
      "Iter 84480, Minibatch Loss= 0.108336, Training Accuracy= 0.98438\n",
      "Iter 85760, Minibatch Loss= 0.065835, Training Accuracy= 0.98438\n",
      "Iter 87040, Minibatch Loss= 0.106073, Training Accuracy= 0.97656\n",
      "Iter 88320, Minibatch Loss= 0.093640, Training Accuracy= 0.97656\n",
      "Iter 89600, Minibatch Loss= 0.130370, Training Accuracy= 0.96875\n",
      "Iter 90880, Minibatch Loss= 0.162959, Training Accuracy= 0.96094\n",
      "Iter 92160, Minibatch Loss= 0.085812, Training Accuracy= 0.96094\n",
      "Iter 93440, Minibatch Loss= 0.055104, Training Accuracy= 0.97656\n",
      "Iter 94720, Minibatch Loss= 0.127304, Training Accuracy= 0.97656\n",
      "Iter 96000, Minibatch Loss= 0.191008, Training Accuracy= 0.94531\n",
      "Iter 97280, Minibatch Loss= 0.095102, Training Accuracy= 0.96875\n",
      "Iter 98560, Minibatch Loss= 0.124364, Training Accuracy= 0.95312\n",
      "Iter 99840, Minibatch Loss= 0.069223, Training Accuracy= 0.97656\n",
      "Optimization Finished!\n",
      "Testing Accuracy: 0.96875\n"
     ]
    }
   ],
   "source": [
    "# Launch the graph\n",
    "with tf.Session() as sess:\n",
    "    sess.run(init)\n",
    "    step = 1\n",
    "    # Keep training until reach max iterations\n",
    "    while step * batch_size < training_iters:\n",
    "        batch_x, batch_y = mnist.train.next_batch(batch_size)\n",
    "        # Reshape data to get 28 seq of 28 elements\n",
    "        batch_x = batch_x.reshape((batch_size, n_steps, n_input))\n",
    "        # Run optimization op (backprop)\n",
    "        sess.run(optimizer, feed_dict={x: batch_x, y: batch_y})\n",
    "        if step % display_step == 0:\n",
    "            # Calculate batch accuracy\n",
    "            acc = sess.run(accuracy, feed_dict={x: batch_x, y: batch_y})\n",
    "            # Calculate batch loss\n",
    "            loss = sess.run(cost, feed_dict={x: batch_x, y: batch_y})\n",
    "            print \"Iter \" + str(step*batch_size) + \", Minibatch Loss= \" + \\\n",
    "                  \"{:.6f}\".format(loss) + \", Training Accuracy= \" + \\\n",
    "                  \"{:.5f}\".format(acc)\n",
    "        step += 1\n",
    "    print \"Optimization Finished!\"\n",
    "\n",
    "    # Calculate accuracy for 128 mnist test images\n",
    "    test_len = 128\n",
    "    test_data = mnist.test.images[:test_len].reshape((-1, n_steps, n_input))\n",
    "    test_label = mnist.test.labels[:test_len]\n",
    "    print \"Testing Accuracy:\", \\\n",
    "        sess.run(accuracy, feed_dict={x: test_data, y: test_label})"
   ]
  }
 ],
 "metadata": {
  "kernelspec": {
   "display_name": "Python 2",
   "language": "python",
   "name": "python2"
  },
  "language_info": {
   "codemirror_mode": {
    "name": "ipython",
    "version": 2
   },
   "file_extension": ".py",
   "mimetype": "text/x-python",
   "name": "python",
   "nbconvert_exporter": "python",
   "pygments_lexer": "ipython2",
   "version": "2.7.6"
  }
 },
 "nbformat": 4,
 "nbformat_minor": 0
}
