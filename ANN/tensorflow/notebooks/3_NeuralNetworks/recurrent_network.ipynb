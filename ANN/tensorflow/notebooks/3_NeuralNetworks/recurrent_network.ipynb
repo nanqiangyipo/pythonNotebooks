{
 "cells": [
  {
   "cell_type": "code",
   "execution_count": 1,
   "metadata": {
    "collapsed": false
   },
   "outputs": [
    {
     "data": {
      "text/plain": [
       "'http://localhost:8889/notebooks/notebooks/3_NeuralNetworks/recurrent_network.ipynb#\\nA Reccurent Neural Network (LSTM) implementation example using TensorFlow library.\\nThis example is using the MNIST database of handwritten digits (http://yann.lecun.com/exdb/mnist/)\\nLong Short Term Memory paper: http://deeplearning.cs.cmu.edu/pdfs/Hochreiter97_lstm.pdf\\n\\nAuthor: Aymeric Damien\\nProject: https://github.com/aymericdamien/TensorFlow-Examples/\\n'"
      ]
     },
     "execution_count": 1,
     "metadata": {},
     "output_type": "execute_result"
    }
   ],
   "source": [
    "'''http://localhost:8889/notebooks/notebooks/3_NeuralNetworks/recurrent_network.ipynb#\n",
    "A Reccurent Neural Network (LSTM) implementation example using TensorFlow library.\n",
    "This example is using the MNIST database of handwritten digits (http://yann.lecun.com/exdb/mnist/)\n",
    "Long Short Term Memory paper: http://deeplearning.cs.cmu.edu/pdfs/Hochreiter97_lstm.pdf\n",
    "\n",
    "Author: Aymeric Damien\n",
    "Project: https://github.com/aymericdamien/TensorFlow-Examples/\n",
    "'''"
   ]
  },
  {
   "cell_type": "code",
   "execution_count": 2,
   "metadata": {
    "collapsed": false
   },
   "outputs": [
    {
     "name": "stdout",
     "output_type": "stream",
     "text": [
      "Extracting /tmp/data/train-images-idx3-ubyte.gz\n",
      "Extracting /tmp/data/train-labels-idx1-ubyte.gz\n",
      "Extracting /tmp/data/t10k-images-idx3-ubyte.gz\n",
      "Extracting /tmp/data/t10k-labels-idx1-ubyte.gz\n"
     ]
    }
   ],
   "source": [
    "import tensorflow as tf\n",
    "#from tensorflow.models.rnn import rnn, rnn_cell\n",
    "import numpy as np\n",
    "\n",
    "# Import MINST data\n",
    "from tensorflow.examples.tutorials.mnist import input_data\n",
    "mnist = input_data.read_data_sets(\"/tmp/data/\", one_hot=True)"
   ]
  },
  {
   "cell_type": "code",
   "execution_count": 3,
   "metadata": {
    "collapsed": false
   },
   "outputs": [
    {
     "data": {
      "text/plain": [
       "'\\nTo classify images using a reccurent neural network, we consider every image\\nrow as a sequence of pixels. Because MNIST image shape is 28*28px, we will then\\nhandle 28 sequences of 28 steps for every sample.\\n'"
      ]
     },
     "execution_count": 3,
     "metadata": {},
     "output_type": "execute_result"
    }
   ],
   "source": [
    "'''\n",
    "To classify images using a reccurent neural network, we consider every image\n",
    "row as a sequence of pixels. Because MNIST image shape is 28*28px, we will then\n",
    "handle 28 sequences of 28 steps for every sample.\n",
    "'''"
   ]
  },
  {
   "cell_type": "code",
   "execution_count": 4,
   "metadata": {
    "collapsed": true
   },
   "outputs": [],
   "source": [
    "# Parameters\n",
    "learning_rate = 0.001\n",
    "training_iters = 100000\n",
    "batch_size = 128\n",
    "display_step = 10\n",
    "\n",
    "# Network Parameters\n",
    "n_input = 28 # MNIST data input (img shape: 28*28)\n",
    "n_steps = 28 # timesteps\n",
    "n_hidden = 128 # hidden layer num of features\n",
    "n_classes = 10 # MNIST total classes (0-9 digits)\n",
    "\n",
    "# tf Graph input\n",
    "x = tf.placeholder(\"float\", [None, n_steps, n_input])\n",
    "y = tf.placeholder(\"float\", [None, n_classes])\n",
    "\n",
    "# Define weights\n",
    "weights = {\n",
    "    'out': tf.Variable(tf.random_normal([n_hidden, n_classes]))\n",
    "}\n",
    "biases = {\n",
    "    'out': tf.Variable(tf.random_normal([n_classes]))\n",
    "}"
   ]
  },
  {
   "cell_type": "code",
   "execution_count": 5,
   "metadata": {
    "collapsed": false
   },
   "outputs": [],
   "source": [
    "def RNN(x, weights, biases):\n",
    "\n",
    "    # Prepare data shape to match `rnn` function requirements\n",
    "    # Current data input shape: (batch_size, n_steps, n_input)\n",
    "    # Required shape: 'n_steps' tensors list of shape (batch_size, n_input)\n",
    "    \n",
    "    # Permuting batch_size and n_steps\n",
    "    x = tf.transpose(x, [1, 0, 2])\n",
    "    # Reshaping to (n_steps*batch_size, n_input)\n",
    "    x = tf.reshape(x, [-1, n_input])\n",
    "    # Split to get a list of 'n_steps' tensors of shape (batch_size, n_input)\n",
    "    x = tf.split(0, n_steps, x)\n",
    "\n",
    "    # Define a lstm cell with tensorflow\n",
    "    lstm_cell = tf.nn.rnn_cell.BasicLSTMCell(n_hidden, forget_bias=1.0, state_is_tuple=True)\n",
    "\n",
    "    # Get lstm cell output\n",
    "    outputs, states = tf.nn.rnn(lstm_cell, x, dtype=tf.float32)\n",
    "\n",
    "    # Linear activation, using rnn inner loop last output\n",
    "    return tf.matmul(outputs[-1], weights['out']) + biases['out']\n",
    "\n",
    "pred = RNN(x, weights, biases)\n",
    "\n",
    "# Define loss and optimizer\n",
    "cost = tf.reduce_mean(tf.nn.softmax_cross_entropy_with_logits(pred, y))\n",
    "optimizer = tf.train.AdamOptimizer(learning_rate=learning_rate).minimize(cost)\n",
    "\n",
    "# Evaluate model\n",
    "correct_pred = tf.equal(tf.argmax(pred,1), tf.argmax(y,1))\n",
    "accuracy = tf.reduce_mean(tf.cast(correct_pred, tf.float32))\n",
    "\n",
    "# Initializing the variables\n",
    "init = tf.initialize_all_variables()"
   ]
  },
  {
   "cell_type": "code",
   "execution_count": 6,
   "metadata": {
    "collapsed": false
   },
   "outputs": [
    {
     "name": "stdout",
     "output_type": "stream",
     "text": [
      "Iter 1280, Minibatch Loss= 1.669562, Training Accuracy= 0.45312\n",
      "Iter 2560, Minibatch Loss= 1.606784, Training Accuracy= 0.49219\n",
      "Iter 3840, Minibatch Loss= 1.179752, Training Accuracy= 0.57812\n",
      "Iter 5120, Minibatch Loss= 0.909580, Training Accuracy= 0.69531\n",
      "Iter 6400, Minibatch Loss= 0.715138, Training Accuracy= 0.78125\n",
      "Iter 7680, Minibatch Loss= 1.076270, Training Accuracy= 0.65625\n",
      "Iter 8960, Minibatch Loss= 0.667696, Training Accuracy= 0.77344\n",
      "Iter 10240, Minibatch Loss= 0.589545, Training Accuracy= 0.81250\n",
      "Iter 11520, Minibatch Loss= 0.376383, Training Accuracy= 0.89844\n",
      "Iter 12800, Minibatch Loss= 0.640685, Training Accuracy= 0.82812\n",
      "Iter 14080, Minibatch Loss= 0.502204, Training Accuracy= 0.85938\n",
      "Iter 15360, Minibatch Loss= 0.352654, Training Accuracy= 0.89062\n",
      "Iter 16640, Minibatch Loss= 0.398557, Training Accuracy= 0.92969\n",
      "Iter 17920, Minibatch Loss= 0.313059, Training Accuracy= 0.89844\n",
      "Iter 19200, Minibatch Loss= 0.239661, Training Accuracy= 0.90625\n",
      "Iter 20480, Minibatch Loss= 0.137176, Training Accuracy= 0.97656\n",
      "Iter 21760, Minibatch Loss= 0.437238, Training Accuracy= 0.84375\n",
      "Iter 23040, Minibatch Loss= 0.115524, Training Accuracy= 0.96875\n",
      "Iter 24320, Minibatch Loss= 0.375284, Training Accuracy= 0.87500\n",
      "Iter 25600, Minibatch Loss= 0.393666, Training Accuracy= 0.87500\n",
      "Iter 26880, Minibatch Loss= 0.168150, Training Accuracy= 0.95312\n",
      "Iter 28160, Minibatch Loss= 0.211001, Training Accuracy= 0.91406\n",
      "Iter 29440, Minibatch Loss= 0.269297, Training Accuracy= 0.92188\n",
      "Iter 30720, Minibatch Loss= 0.270996, Training Accuracy= 0.89844\n",
      "Iter 32000, Minibatch Loss= 0.211840, Training Accuracy= 0.93750\n",
      "Iter 33280, Minibatch Loss= 0.284128, Training Accuracy= 0.92188\n",
      "Iter 34560, Minibatch Loss= 0.250612, Training Accuracy= 0.92188\n",
      "Iter 35840, Minibatch Loss= 0.182655, Training Accuracy= 0.92969\n",
      "Iter 37120, Minibatch Loss= 0.266287, Training Accuracy= 0.92969\n",
      "Iter 38400, Minibatch Loss= 0.128208, Training Accuracy= 0.96094\n",
      "Iter 39680, Minibatch Loss= 0.207216, Training Accuracy= 0.92188\n",
      "Iter 40960, Minibatch Loss= 0.230350, Training Accuracy= 0.93750\n",
      "Iter 42240, Minibatch Loss= 0.161262, Training Accuracy= 0.93750\n",
      "Iter 43520, Minibatch Loss= 0.135511, Training Accuracy= 0.94531\n",
      "Iter 44800, Minibatch Loss= 0.162376, Training Accuracy= 0.93750\n",
      "Iter 46080, Minibatch Loss= 0.069707, Training Accuracy= 0.97656\n",
      "Iter 47360, Minibatch Loss= 0.225951, Training Accuracy= 0.92188\n",
      "Iter 48640, Minibatch Loss= 0.188716, Training Accuracy= 0.92188\n",
      "Iter 49920, Minibatch Loss= 0.225264, Training Accuracy= 0.91406\n",
      "Iter 51200, Minibatch Loss= 0.123429, Training Accuracy= 0.95312\n",
      "Iter 52480, Minibatch Loss= 0.142136, Training Accuracy= 0.94531\n",
      "Iter 53760, Minibatch Loss= 0.037641, Training Accuracy= 0.99219\n",
      "Iter 55040, Minibatch Loss= 0.192075, Training Accuracy= 0.91406\n",
      "Iter 56320, Minibatch Loss= 0.151712, Training Accuracy= 0.96875\n",
      "Iter 57600, Minibatch Loss= 0.088478, Training Accuracy= 0.98438\n",
      "Iter 58880, Minibatch Loss= 0.207207, Training Accuracy= 0.92969\n",
      "Iter 60160, Minibatch Loss= 0.042677, Training Accuracy= 0.99219\n",
      "Iter 61440, Minibatch Loss= 0.202898, Training Accuracy= 0.94531\n",
      "Iter 62720, Minibatch Loss= 0.130827, Training Accuracy= 0.96094\n",
      "Iter 64000, Minibatch Loss= 0.081656, Training Accuracy= 0.98438\n",
      "Iter 65280, Minibatch Loss= 0.155465, Training Accuracy= 0.93750\n",
      "Iter 66560, Minibatch Loss= 0.164882, Training Accuracy= 0.93750\n",
      "Iter 67840, Minibatch Loss= 0.235887, Training Accuracy= 0.92969\n",
      "Iter 69120, Minibatch Loss= 0.072240, Training Accuracy= 0.96875\n",
      "Iter 70400, Minibatch Loss= 0.145115, Training Accuracy= 0.94531\n",
      "Iter 71680, Minibatch Loss= 0.126103, Training Accuracy= 0.94531\n",
      "Iter 72960, Minibatch Loss= 0.142713, Training Accuracy= 0.96875\n",
      "Iter 74240, Minibatch Loss= 0.189731, Training Accuracy= 0.95312\n",
      "Iter 75520, Minibatch Loss= 0.040999, Training Accuracy= 0.99219\n",
      "Iter 76800, Minibatch Loss= 0.173113, Training Accuracy= 0.95312\n",
      "Iter 78080, Minibatch Loss= 0.178153, Training Accuracy= 0.95312\n",
      "Iter 79360, Minibatch Loss= 0.076477, Training Accuracy= 0.97656\n",
      "Iter 80640, Minibatch Loss= 0.152418, Training Accuracy= 0.96875\n",
      "Iter 81920, Minibatch Loss= 0.167157, Training Accuracy= 0.94531\n",
      "Iter 83200, Minibatch Loss= 0.104186, Training Accuracy= 0.98438\n",
      "Iter 84480, Minibatch Loss= 0.240260, Training Accuracy= 0.92188\n",
      "Iter 85760, Minibatch Loss= 0.096565, Training Accuracy= 0.96094\n",
      "Iter 87040, Minibatch Loss= 0.052034, Training Accuracy= 0.99219\n",
      "Iter 88320, Minibatch Loss= 0.096498, Training Accuracy= 0.97656\n",
      "Iter 89600, Minibatch Loss= 0.050427, Training Accuracy= 0.99219\n",
      "Iter 90880, Minibatch Loss= 0.103011, Training Accuracy= 0.96094\n",
      "Iter 92160, Minibatch Loss= 0.031306, Training Accuracy= 0.99219\n",
      "Iter 93440, Minibatch Loss= 0.060105, Training Accuracy= 0.98438\n",
      "Iter 94720, Minibatch Loss= 0.080187, Training Accuracy= 0.96094\n",
      "Iter 96000, Minibatch Loss= 0.066953, Training Accuracy= 0.98438\n",
      "Iter 97280, Minibatch Loss= 0.080511, Training Accuracy= 0.96875\n",
      "Iter 98560, Minibatch Loss= 0.114748, Training Accuracy= 0.95312\n",
      "Iter 99840, Minibatch Loss= 0.104040, Training Accuracy= 0.96875\n",
      "Optimization Finished!\n",
      "Testing Accuracy: 0.992188\n"
     ]
    }
   ],
   "source": [
    "# Launch the graph\n",
    "with tf.Session() as sess:\n",
    "    sess.run(init)\n",
    "    step = 1\n",
    "    # Keep training until reach max iterations\n",
    "    while step * batch_size < training_iters:\n",
    "        batch_x, batch_y = mnist.train.next_batch(batch_size)\n",
    "        # Reshape data to get 28 seq of 28 elements\n",
    "        batch_x = batch_x.reshape((batch_size, n_steps, n_input))\n",
    "        # Run optimization op (backprop)\n",
    "        sess.run(optimizer, feed_dict={x: batch_x, y: batch_y})\n",
    "        if step % display_step == 0:\n",
    "            # Calculate batch accuracy\n",
    "            acc = sess.run(accuracy, feed_dict={x: batch_x, y: batch_y})\n",
    "            # Calculate batch loss\n",
    "            loss = sess.run(cost, feed_dict={x: batch_x, y: batch_y})\n",
    "            print \"Iter \" + str(step*batch_size) + \", Minibatch Loss= \" + \\\n",
    "                  \"{:.6f}\".format(loss) + \", Training Accuracy= \" + \\\n",
    "                  \"{:.5f}\".format(acc)\n",
    "        step += 1\n",
    "    print \"Optimization Finished!\"\n",
    "\n",
    "    # Calculate accuracy for 128 mnist test images\n",
    "    test_len = 128\n",
    "    test_data = mnist.test.images[:test_len].reshape((-1, n_steps, n_input))\n",
    "    test_label = mnist.test.labels[:test_len]\n",
    "    print \"Testing Accuracy:\", \\\n",
    "        sess.run(accuracy, feed_dict={x: test_data, y: test_label})"
   ]
  },
  {
   "cell_type": "code",
   "execution_count": null,
   "metadata": {
    "collapsed": true
   },
   "outputs": [],
   "source": []
  }
 ],
 "metadata": {
  "kernelspec": {
   "display_name": "Python 2",
   "language": "python",
   "name": "python2"
  },
  "language_info": {
   "codemirror_mode": {
    "name": "ipython",
    "version": 2
   },
   "file_extension": ".py",
   "mimetype": "text/x-python",
   "name": "python",
   "nbconvert_exporter": "python",
   "pygments_lexer": "ipython2",
   "version": "2.7.6"
  }
 },
 "nbformat": 4,
 "nbformat_minor": 0
}
