{
 "cells": [
  {
   "cell_type": "code",
   "execution_count": 1,
   "metadata": {
    "collapsed": true
   },
   "outputs": [],
   "source": [
    "import os\n",
    "import sys"
   ]
  },
  {
   "cell_type": "code",
   "execution_count": 2,
   "metadata": {
    "collapsed": false
   },
   "outputs": [],
   "source": [
    "data_path=r'/home/xinye/PycharmProjects/PyCodeFragment/data/animal'"
   ]
  },
  {
   "cell_type": "code",
   "execution_count": 4,
   "metadata": {
    "collapsed": false
   },
   "outputs": [
    {
     "data": {
      "text/plain": [
       "['狗', '鬣狗', '花栗鼠', '狐狸', '天竺鼠', '黄鼠狼', '松鼠', '驯鹿', '猫', '长颈鹿', '梅花鹿', '狼']"
      ]
     },
     "execution_count": 4,
     "metadata": {},
     "output_type": "execute_result"
    }
   ],
   "source": [
    "folders = os.listdir(data_path)\n",
    "folders"
   ]
  },
  {
   "cell_type": "code",
   "execution_count": 7,
   "metadata": {
    "collapsed": false
   },
   "outputs": [
    {
     "data": {
      "text/plain": [
       "['/home/xinye/PycharmProjects/PyCodeFragment/data/animal/狗',\n",
       " '/home/xinye/PycharmProjects/PyCodeFragment/data/animal/鬣狗',\n",
       " '/home/xinye/PycharmProjects/PyCodeFragment/data/animal/花栗鼠',\n",
       " '/home/xinye/PycharmProjects/PyCodeFragment/data/animal/狐狸',\n",
       " '/home/xinye/PycharmProjects/PyCodeFragment/data/animal/天竺鼠',\n",
       " '/home/xinye/PycharmProjects/PyCodeFragment/data/animal/黄鼠狼',\n",
       " '/home/xinye/PycharmProjects/PyCodeFragment/data/animal/松鼠',\n",
       " '/home/xinye/PycharmProjects/PyCodeFragment/data/animal/驯鹿',\n",
       " '/home/xinye/PycharmProjects/PyCodeFragment/data/animal/猫',\n",
       " '/home/xinye/PycharmProjects/PyCodeFragment/data/animal/长颈鹿',\n",
       " '/home/xinye/PycharmProjects/PyCodeFragment/data/animal/梅花鹿',\n",
       " '/home/xinye/PycharmProjects/PyCodeFragment/data/animal/狼']"
      ]
     },
     "execution_count": 7,
     "metadata": {},
     "output_type": "execute_result"
    }
   ],
   "source": [
    "# folders full path\n",
    "folders_full_path=[os.path.join(data_path,folder) for folder in folders]\n",
    "folders_full_path"
   ]
  },
  {
   "cell_type": "code",
   "execution_count": 21,
   "metadata": {
    "collapsed": false
   },
   "outputs": [
    {
     "data": {
      "text/plain": [
       "['/home/xinye/PycharmProjects/PyCodeFragment/data/animal/狗/0f6d1806f7d04f76b650486be79cf04a.jpg',\n",
       " '/home/xinye/PycharmProjects/PyCodeFragment/data/animal/狗/2b584f8e25474207bb0859592b986641.jpg',\n",
       " '/home/xinye/PycharmProjects/PyCodeFragment/data/animal/狗/0c6a003c0ab54ec0a8b443ef0423ecb8.jpg',\n",
       " '/home/xinye/PycharmProjects/PyCodeFragment/data/animal/狗/2d0e9d71ba5543cc93abe22f9b113b20.jpg',\n",
       " '/home/xinye/PycharmProjects/PyCodeFragment/data/animal/狗/0fa00b5f565a47ee926f0f5329478189.jpg']"
      ]
     },
     "execution_count": 21,
     "metadata": {},
     "output_type": "execute_result"
    }
   ],
   "source": [
    "filename=os.listdir(folders_full_path[0])\n",
    "filename[0:5]\n",
    "filename_fullpath=[os.path.join(folders_full_path[0],file) for file in filename]\n",
    "filename_fullpath[0:5]"
   ]
  },
  {
   "cell_type": "code",
   "execution_count": 28,
   "metadata": {
    "collapsed": false
   },
   "outputs": [
    {
     "name": "stdout",
     "output_type": "stream",
     "text": [
      "0f8c03ecb4b845478aaf1da6e5359132.png\n",
      "/home/xinye/PycharmProjects/PyCodeFragment/data/animal/狗/0f8c03ecb4b845478aaf1da6e5359132.png\n",
      "2aecf8ff77b74a39b801976056e8a510.gif\n",
      "/home/xinye/PycharmProjects/PyCodeFragment/data/animal/狗/2aecf8ff77b74a39b801976056e8a510.gif\n",
      "0f899c2230c64d6eaeafe8a3ad9cc5b0.png\n",
      "/home/xinye/PycharmProjects/PyCodeFragment/data/animal/狗/0f899c2230c64d6eaeafe8a3ad9cc5b0.png\n",
      "1e6b44eea24b4c0cb73a98b94492e9ed.gif\n",
      "/home/xinye/PycharmProjects/PyCodeFragment/data/animal/狗/1e6b44eea24b4c0cb73a98b94492e9ed.gif\n",
      "1c6fa179c77a4ea7abf93374a10c1f5a.png\n",
      "/home/xinye/PycharmProjects/PyCodeFragment/data/animal/狗/1c6fa179c77a4ea7abf93374a10c1f5a.png\n",
      "0da2c0267e2d4cc68d0ba9cee732b8d3.png\n",
      "/home/xinye/PycharmProjects/PyCodeFragment/data/animal/狗/0da2c0267e2d4cc68d0ba9cee732b8d3.png\n",
      "0f997e0d9b5e4687829a3ae41da7dd30.png\n",
      "/home/xinye/PycharmProjects/PyCodeFragment/data/animal/狗/0f997e0d9b5e4687829a3ae41da7dd30.png\n",
      "2a31169cbff243e89eef69a2b125e5d9.png\n",
      "/home/xinye/PycharmProjects/PyCodeFragment/data/animal/狗/2a31169cbff243e89eef69a2b125e5d9.png\n",
      "0b999065db2c4c4c9f9b26aa88093c95.png\n",
      "/home/xinye/PycharmProjects/PyCodeFragment/data/animal/狗/0b999065db2c4c4c9f9b26aa88093c95.png\n",
      "0e9efa87ecec4750b41ae9846b233073.png\n",
      "/home/xinye/PycharmProjects/PyCodeFragment/data/animal/狗/0e9efa87ecec4750b41ae9846b233073.png\n",
      "1dc1288075ad4a7599bd3f7eee2597d6.png\n",
      "/home/xinye/PycharmProjects/PyCodeFragment/data/animal/狗/1dc1288075ad4a7599bd3f7eee2597d6.png\n",
      "0d08408b37bb4b0e928ab3785f143c26.gif\n",
      "/home/xinye/PycharmProjects/PyCodeFragment/data/animal/狗/0d08408b37bb4b0e928ab3785f143c26.gif\n",
      "1aa7d07e2eed4a1a82a02d60425c4e86.gif\n",
      "/home/xinye/PycharmProjects/PyCodeFragment/data/animal/狗/1aa7d07e2eed4a1a82a02d60425c4e86.gif\n",
      "2a848533caa9487db55399ed1ce632fe.gif\n",
      "/home/xinye/PycharmProjects/PyCodeFragment/data/animal/狗/2a848533caa9487db55399ed1ce632fe.gif\n",
      "2b404d3859f14fd2b970e8533a91c787.png\n",
      "/home/xinye/PycharmProjects/PyCodeFragment/data/animal/狗/2b404d3859f14fd2b970e8533a91c787.png\n",
      "1ebb145ce5304038817e2370e9b9c3ae.gif\n",
      "/home/xinye/PycharmProjects/PyCodeFragment/data/animal/狗/1ebb145ce5304038817e2370e9b9c3ae.gif\n",
      "2ab378ac843c47d8aff210459677b26f.png\n",
      "/home/xinye/PycharmProjects/PyCodeFragment/data/animal/狗/2ab378ac843c47d8aff210459677b26f.png\n"
     ]
    }
   ],
   "source": [
    "for i in filename_fullpath:\n",
    "    if os.path.splitext(i)[1].lower() not in ('.jpg','.jpeg'):\n",
    "        print(os.path.basename(i))\n",
    "        print(i)"
   ]
  },
  {
   "cell_type": "code",
   "execution_count": null,
   "metadata": {
    "collapsed": true
   },
   "outputs": [],
   "source": []
  }
 ],
 "metadata": {
  "kernelspec": {
   "display_name": "Python 3",
   "language": "python",
   "name": "python3"
  },
  "language_info": {
   "codemirror_mode": {
    "name": "ipython",
    "version": 3
   },
   "file_extension": ".py",
   "mimetype": "text/x-python",
   "name": "python",
   "nbconvert_exporter": "python",
   "pygments_lexer": "ipython3",
   "version": "3.5.2"
  }
 },
 "nbformat": 4,
 "nbformat_minor": 1
}
