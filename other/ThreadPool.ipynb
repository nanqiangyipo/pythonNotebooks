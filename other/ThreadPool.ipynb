{
 "cells": [
  {
   "cell_type": "code",
   "execution_count": 1,
   "metadata": {
    "collapsed": true
   },
   "outputs": [],
   "source": [
    "from concurrent.futures import ThreadPoolExecutor\n",
    "import numpy as np\n",
    "import threading\n",
    "import datetime as dt\n"
   ]
  },
  {
   "cell_type": "code",
   "execution_count": 35,
   "metadata": {
    "collapsed": false
   },
   "outputs": [
    {
     "name": "stdout",
     "output_type": "stream",
     "text": [
      "33\n"
     ]
    }
   ],
   "source": [
    "def fetch_url(arr):\n",
    "    r=[np.random.random(length) for length in arr]\n",
    "#     print(threading.current_thread().getName())\n",
    "    return (r,threading.current_thread().getName())\n",
    "\n",
    "pool = ThreadPoolExecutor(10)\n",
    "# Submit work to the pool\n",
    "starttime=dt.datetime.now()\n",
    "\n",
    "for i in range(180000):\n",
    "    a = pool.submit(fetch_url, [1,2])\n",
    "    b = pool.submit(fetch_url, [2,1])\n",
    "    a = pool.submit(fetch_url, [1,2])\n",
    "    b = pool.submit(fetch_url, [2,1])\n",
    "    a = pool.submit(fetch_url, [1,2])\n",
    "    b = pool.submit(fetch_url, [2,1])    \n",
    "    a = pool.submit(fetch_url, [1,2])\n",
    "    b = pool.submit(fetch_url, [2,1])\n",
    "    a = pool.submit(fetch_url, [1,2])\n",
    "    b = pool.submit(fetch_url, [2,1])    \n",
    "#     x = a.result()\n",
    "#     y = b.result()\n",
    "#     print(x,y,sep='\\n')\n",
    "\n",
    "print((dt.datetime.now()-starttime).seconds)\n",
    "# Get the results back\n",
    "\n"
   ]
  },
  {
   "cell_type": "code",
   "execution_count": 32,
   "metadata": {
    "collapsed": false
   },
   "outputs": [
    {
     "name": "stdout",
     "output_type": "stream",
     "text": [
      "7\n"
     ]
    }
   ],
   "source": [
    "def fetch_url(arr):\n",
    "    r=[np.random.random(length) for length in arr]\n",
    "#     print(threading.current_thread().getName())\n",
    "    return (r,threading.current_thread().getName())\n",
    "\n",
    "pool = ThreadPoolExecutor(10)\n",
    "# Submit work to the pool\n",
    "starttime=dt.datetime.now()\n",
    "\n",
    "for i in range(900000):\n",
    "    a = fetch_url([1,2])\n",
    "    b = fetch_url([2,1])\n",
    "#     print(x,y,sep='\\n')\n",
    "\n",
    "print((dt.datetime.now()-starttime).seconds)\n",
    "# Get the results back"
   ]
  },
  {
   "cell_type": "code",
   "execution_count": null,
   "metadata": {
    "collapsed": false
   },
   "outputs": [],
   "source": [
    "from multiprocessing import Pool\n",
    "import os, time, random\n",
    "\n",
    "def long_time_task(name):\n",
    "    print ('Run task %s (%s)...' % (name, os.getpid()))\n",
    "    start = time.time()\n",
    "    time.sleep(random.random()%10)\n",
    "    end = time.time()\n",
    "    print ('Task %s runs %0.2f seconds.' % (name, (end - start)))\n",
    "\n",
    "\n",
    "print( 'Parent process %s.' % os.getpid())\n",
    "p = Pool()\n",
    "for i in range(5):\n",
    "    p.apply_async(long_time_task, args=(i,))\n",
    "print ('Waiting for all subprocesses done...')\n",
    "p.close()\n",
    "p.join()\n",
    "a=dt.datetime.now()\n",
    "print ('All subprocesses done.',a)\n"
   ]
  },
  {
   "cell_type": "code",
   "execution_count": 18,
   "metadata": {
    "collapsed": false
   },
   "outputs": [
    {
     "data": {
      "text/plain": [
       "datetime.datetime(2016, 11, 21, 13, 31, 47, 89348)"
      ]
     },
     "execution_count": 18,
     "metadata": {},
     "output_type": "execute_result"
    }
   ],
   "source": [
    "b=dt.datetime.now()\n",
    "b"
   ]
  },
  {
   "cell_type": "code",
   "execution_count": 36,
   "metadata": {
    "collapsed": false
   },
   "outputs": [],
   "source": [
    "from multiprocessing import Pool"
   ]
  },
  {
   "cell_type": "code",
   "execution_count": null,
   "metadata": {
    "collapsed": true
   },
   "outputs": [],
   "source": []
  }
 ],
 "metadata": {
  "kernelspec": {
   "display_name": "Python 3",
   "language": "python",
   "name": "python3"
  },
  "language_info": {
   "codemirror_mode": {
    "name": "ipython",
    "version": 3
   },
   "file_extension": ".py",
   "mimetype": "text/x-python",
   "name": "python",
   "nbconvert_exporter": "python",
   "pygments_lexer": "ipython3",
   "version": "3.5.2"
  }
 },
 "nbformat": 4,
 "nbformat_minor": 0
}
