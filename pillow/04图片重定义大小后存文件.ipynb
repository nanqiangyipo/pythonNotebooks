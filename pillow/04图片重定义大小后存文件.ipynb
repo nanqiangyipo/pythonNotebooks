{
 "cells": [
  {
   "cell_type": "code",
   "execution_count": 1,
   "metadata": {
    "collapsed": true
   },
   "outputs": [],
   "source": [
    "from PIL import Image\n",
    "from matplotlib.pyplot import imshow\n",
    "import matplotlib.pyplot as plt\n",
    "import pandas as pd\n",
    "import os\n",
    "import numpy as np"
   ]
  },
  {
   "cell_type": "code",
   "execution_count": 2,
   "metadata": {
    "collapsed": true
   },
   "outputs": [],
   "source": [
    "%matplotlib inline"
   ]
  },
  {
   "cell_type": "code",
   "execution_count": 6,
   "metadata": {
    "collapsed": false
   },
   "outputs": [
    {
     "name": "stdout",
     "output_type": "stream",
     "text": [
      "['/home/xinye/PycharmProjects/PyCodeFragment/data/animal/狗', '/home/xinye/PycharmProjects/PyCodeFragment/data/animal/鬣狗', '/home/xinye/PycharmProjects/PyCodeFragment/data/animal/花栗鼠', '/home/xinye/PycharmProjects/PyCodeFragment/data/animal/狐狸']\n",
      "\n",
      "['/home/xinye/PycharmProjects/PyCodeFragment/data/resized_animal/狗', '/home/xinye/PycharmProjects/PyCodeFragment/data/resized_animal/鬣狗', '/home/xinye/PycharmProjects/PyCodeFragment/data/resized_animal/花栗鼠', '/home/xinye/PycharmProjects/PyCodeFragment/data/resized_animal/狐狸']\n"
     ]
    }
   ],
   "source": [
    "data_path=r'/home/xinye/PycharmProjects/PyCodeFragment/data/animal'\n",
    "resized_data_path=r'/home/xinye/PycharmProjects/PyCodeFragment/data/resized_animal'\n",
    "\n",
    "animal_path_name=os.listdir(data_path)\n",
    "animal_paths = [os.path.join(data_path,x) for x in animal_path_name]\n",
    "print(animal_paths[0:4],end='\\n\\n')\n",
    "\n",
    "resized_paths=[os.path.join(resized_data_path,filename) for filename in animal_path_name]\n",
    "print(resized_paths[0:4])"
   ]
  },
  {
   "cell_type": "markdown",
   "metadata": {},
   "source": []
  },
  {
   "cell_type": "code",
   "execution_count": 7,
   "metadata": {
    "collapsed": false
   },
   "outputs": [
    {
     "data": {
      "text/plain": [
       "['/home/xinye/PycharmProjects/PyCodeFragment/data/animal/狗/0f6d1806f7d04f76b650486be79cf04a.jpg',\n",
       " '/home/xinye/PycharmProjects/PyCodeFragment/data/animal/狗/2b584f8e25474207bb0859592b986641.jpg',\n",
       " '/home/xinye/PycharmProjects/PyCodeFragment/data/animal/狗/0c6a003c0ab54ec0a8b443ef0423ecb8.jpg',\n",
       " '/home/xinye/PycharmProjects/PyCodeFragment/data/animal/狗/2d0e9d71ba5543cc93abe22f9b113b20.jpg']"
      ]
     },
     "execution_count": 7,
     "metadata": {},
     "output_type": "execute_result"
    }
   ],
   "source": [
    "fig_path = [os.path.join(animal_paths[0],path_name) for path_name in os.listdir(animal_paths[0])]\n",
    "fig_path[0:4]"
   ]
  },
  {
   "cell_type": "code",
   "execution_count": null,
   "metadata": {
    "collapsed": true
   },
   "outputs": [],
   "source": []
  }
 ],
 "metadata": {
  "kernelspec": {
   "display_name": "Python 3",
   "language": "python",
   "name": "python3"
  },
  "language_info": {
   "codemirror_mode": {
    "name": "ipython",
    "version": 3
   },
   "file_extension": ".py",
   "mimetype": "text/x-python",
   "name": "python",
   "nbconvert_exporter": "python",
   "pygments_lexer": "ipython3",
   "version": "3.5.2"
  }
 },
 "nbformat": 4,
 "nbformat_minor": 1
}
