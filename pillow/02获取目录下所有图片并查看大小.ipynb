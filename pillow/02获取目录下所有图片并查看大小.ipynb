{
 "cells": [
  {
   "cell_type": "code",
   "execution_count": 1,
   "metadata": {
    "collapsed": true
   },
   "outputs": [],
   "source": [
    "from PIL import Image\n",
    "import numpy as np\n",
    "from matplotlib.pyplot import imshow\n",
    "import os\n",
    "import pandas as pd\n",
    "from pandas import DataFrame"
   ]
  },
  {
   "cell_type": "code",
   "execution_count": 2,
   "metadata": {
    "collapsed": true
   },
   "outputs": [],
   "source": [
    "%matplotlib inline"
   ]
  },
  {
   "cell_type": "code",
   "execution_count": 3,
   "metadata": {
    "collapsed": true
   },
   "outputs": [],
   "source": [
    "data_path=r'/home/xinye/PycharmProjects/PyCodeFragment/data/animal'"
   ]
  },
  {
   "cell_type": "code",
   "execution_count": 4,
   "metadata": {
    "collapsed": true
   },
   "outputs": [],
   "source": [
    "animal_paths=os.listdir(data_path)"
   ]
  },
  {
   "cell_type": "code",
   "execution_count": 5,
   "metadata": {
    "collapsed": false
   },
   "outputs": [
    {
     "data": {
      "text/plain": [
       "['/home/xinye/PycharmProjects/PyCodeFragment/data/animal/狗',\n",
       " '/home/xinye/PycharmProjects/PyCodeFragment/data/animal/鬣狗',\n",
       " '/home/xinye/PycharmProjects/PyCodeFragment/data/animal/花栗鼠',\n",
       " '/home/xinye/PycharmProjects/PyCodeFragment/data/animal/狐狸',\n",
       " '/home/xinye/PycharmProjects/PyCodeFragment/data/animal/天竺鼠',\n",
       " '/home/xinye/PycharmProjects/PyCodeFragment/data/animal/黄鼠狼',\n",
       " '/home/xinye/PycharmProjects/PyCodeFragment/data/animal/松鼠',\n",
       " '/home/xinye/PycharmProjects/PyCodeFragment/data/animal/驯鹿',\n",
       " '/home/xinye/PycharmProjects/PyCodeFragment/data/animal/猫',\n",
       " '/home/xinye/PycharmProjects/PyCodeFragment/data/animal/长颈鹿',\n",
       " '/home/xinye/PycharmProjects/PyCodeFragment/data/animal/梅花鹿',\n",
       " '/home/xinye/PycharmProjects/PyCodeFragment/data/animal/狼']"
      ]
     },
     "execution_count": 5,
     "metadata": {},
     "output_type": "execute_result"
    }
   ],
   "source": [
    "animal_paths = [os.path.join(data_path,x) for x in animal_paths]\n",
    "animal_paths"
   ]
  },
  {
   "cell_type": "code",
   "execution_count": 6,
   "metadata": {
    "collapsed": false
   },
   "outputs": [],
   "source": [
    "fig_path = [os.path.join(animal_paths[0],path_name) for path_name in os.listdir(animal_paths[0])]"
   ]
  },
  {
   "cell_type": "code",
   "execution_count": 7,
   "metadata": {
    "collapsed": false
   },
   "outputs": [
    {
     "data": {
      "text/plain": [
       "[(450, 318, '(450, 318)'),\n",
       " (600, 598, '(600, 598)'),\n",
       " (290, 465, '(290, 465)'),\n",
       " (450, 325, '(450, 325)')]"
      ]
     },
     "execution_count": 7,
     "metadata": {},
     "output_type": "execute_result"
    }
   ],
   "source": [
    "pic_size = [(Image.open(fig).size[0],Image.open(fig).size[1],str(Image.open(fig).size)) for fig in fig_path]\n",
    "pic_size[1:5]"
   ]
  },
  {
   "cell_type": "code",
   "execution_count": 78,
   "metadata": {
    "collapsed": false
   },
   "outputs": [],
   "source": [
    "df = DataFrame(data=pic_size,columns=['width','height','size'])"
   ]
  },
  {
   "cell_type": "code",
   "execution_count": 79,
   "metadata": {
    "collapsed": false
   },
   "outputs": [],
   "source": [
    "df['c']=1"
   ]
  },
  {
   "cell_type": "code",
   "execution_count": 80,
   "metadata": {
    "collapsed": false
   },
   "outputs": [],
   "source": [
    "dfg = df.groupby(['size'])"
   ]
  },
  {
   "cell_type": "code",
   "execution_count": 86,
   "metadata": {
    "collapsed": false
   },
   "outputs": [],
   "source": [
    "#dfg.count()['c']"
   ]
  },
  {
   "cell_type": "code",
   "execution_count": 90,
   "metadata": {
    "collapsed": false
   },
   "outputs": [
    {
     "data": {
      "text/plain": [
       "array([114, 136, 140, 155, 160, 168, 175, 180, 180, 182, 190, 192, 198,\n",
       "       200, 200, 202, 202, 210, 214, 225, 225, 229, 234, 236, 236, 236,\n",
       "       236, 236, 236, 236, 236, 236, 236, 236, 236, 236, 236, 236, 236,\n",
       "       236, 236, 240, 240, 242, 250, 252, 256, 272, 275, 280, 280, 283,\n",
       "       284, 290, 290, 292, 295, 296, 299, 300, 300, 300, 300, 300, 300,\n",
       "       300, 300, 300, 300, 300, 300, 300, 300, 300, 300, 300, 300, 300,\n",
       "       303, 306, 306, 310, 310, 312, 320, 320, 320, 320, 320, 320, 320,\n",
       "       324, 324, 325, 329, 330, 334, 336, 336, 341, 345, 348, 350, 350,\n",
       "       350, 350, 350, 350, 350, 350, 353, 355, 358, 360, 360, 361, 362,\n",
       "       363, 370, 375, 379, 380, 380, 380, 400, 400, 400, 400, 400, 400,\n",
       "       400, 400, 400, 400, 400, 400, 400, 400, 400, 403, 417, 427, 437,\n",
       "       447, 449, 450, 450, 450, 450, 450, 450, 450, 450, 450, 450, 450,\n",
       "       450, 450, 450, 450, 450, 450, 450, 450, 450, 450, 453, 457, 460,\n",
       "       460, 460, 460, 460, 460, 465, 466, 466, 466, 467, 467, 470, 478,\n",
       "       479, 480, 480, 480, 487, 493, 493, 493, 497, 500, 500, 500, 500,\n",
       "       500, 500, 500, 500, 500, 500, 500, 500, 500, 500, 500, 500, 500,\n",
       "       500, 500, 500, 500, 500, 507, 512, 520, 520, 525, 539, 547, 549,\n",
       "       550, 550, 560, 564, 564, 564, 564, 568, 571, 580, 580, 583, 590,\n",
       "       590, 593, 595, 596, 599, 599, 600, 600, 600, 600, 600, 600, 600,\n",
       "       600, 600, 600, 600, 600, 600, 600, 600, 600, 600, 600, 600, 600,\n",
       "       600, 600, 600, 600, 600, 600, 600, 600, 600, 600, 600, 600, 600,\n",
       "       600, 600, 600, 600, 600, 600, 600, 600, 600, 600, 600, 600, 600,\n",
       "       600, 600, 600, 600, 600, 600, 600, 600, 600, 600, 600, 600, 600,\n",
       "       600, 600, 600, 600, 600, 600, 600, 600, 600, 600, 600, 600, 600,\n",
       "       600, 600, 600, 600, 600, 600, 600, 600, 600, 600, 600, 600, 600,\n",
       "       600, 600, 600, 600, 600, 600, 600, 600, 600, 600, 600, 600, 600,\n",
       "       600, 600, 600, 600, 600, 600, 600, 600, 600, 600, 600, 600, 600,\n",
       "       600, 600, 600, 600, 600, 600, 600, 600, 600, 600, 600, 600, 600,\n",
       "       600, 600, 600, 600, 600, 600, 600, 600, 600, 600, 600, 600, 600,\n",
       "       600, 600, 600, 600, 600, 600, 600, 600, 600, 600, 600, 600, 600,\n",
       "       600, 600, 600, 600, 600, 600, 600, 600, 600, 600, 600, 600, 600,\n",
       "       600, 600, 600, 600, 600, 600, 600, 600, 600, 600, 600, 600, 600,\n",
       "       600, 600, 600, 600, 600, 600, 600, 600, 600, 600, 600, 600, 600,\n",
       "       600, 600, 600, 600, 600, 600, 600, 600, 600, 600, 600, 600, 600,\n",
       "       600, 600, 600, 600, 600, 600, 600, 600, 600, 600, 600, 600, 600,\n",
       "       600, 600, 600, 600, 600, 600, 600, 600, 600, 600, 600, 600, 600,\n",
       "       600, 600, 600, 600, 600, 600, 600, 600, 600, 600, 600, 600])"
      ]
     },
     "execution_count": 90,
     "metadata": {},
     "output_type": "execute_result"
    }
   ],
   "source": [
    "np.sort(df['width'])"
   ]
  },
  {
   "cell_type": "code",
   "execution_count": 91,
   "metadata": {
    "collapsed": false
   },
   "outputs": [
    {
     "data": {
      "text/plain": [
       "array([ 105,  136,  139,  140,  144,  156,  156,  160,  160,  160,  160,\n",
       "        167,  167,  170,  175,  176,  176,  177,  177,  180,  180,  185,\n",
       "        190,  193,  197,  197,  199,  200,  200,  200,  200,  200,  200,\n",
       "        200,  207,  208,  210,  213,  216,  217,  218,  218,  219,  221,\n",
       "        225,  225,  225,  227,  228,  229,  230,  232,  234,  236,  238,\n",
       "        240,  240,  240,  241,  242,  244,  246,  250,  250,  250,  252,\n",
       "        253,  253,  255,  264,  266,  269,  270,  270,  271,  272,  273,\n",
       "        276,  278,  280,  281,  281,  288,  289,  289,  292,  296,  298,\n",
       "        298,  298,  300,  300,  300,  300,  300,  300,  300,  300,  300,\n",
       "        300,  300,  300,  300,  305,  305,  306,  306,  307,  308,  309,\n",
       "        309,  314,  315,  315,  316,  318,  319,  320,  320,  320,  320,\n",
       "        320,  320,  320,  320,  320,  322,  324,  324,  324,  324,  325,\n",
       "        328,  329,  329,  329,  330,  330,  330,  331,  332,  332,  332,\n",
       "        333,  333,  333,  333,  333,  333,  333,  333,  334,  335,  335,\n",
       "        335,  335,  337,  338,  338,  338,  338,  338,  338,  338,  338,\n",
       "        338,  338,  338,  338,  338,  338,  338,  338,  338,  338,  338,\n",
       "        338,  338,  338,  338,  338,  338,  339,  341,  342,  343,  344,\n",
       "        345,  345,  347,  348,  348,  350,  350,  352,  352,  357,  358,\n",
       "        359,  359,  360,  364,  365,  365,  369,  370,  371,  372,  374,\n",
       "        374,  375,  375,  375,  375,  375,  375,  375,  375,  375,  375,\n",
       "        375,  375,  375,  375,  375,  375,  375,  375,  375,  375,  375,\n",
       "        375,  376,  378,  379,  382,  383,  384,  387,  388,  389,  390,\n",
       "        390,  395,  396,  397,  398,  398,  398,  398,  398,  398,  399,\n",
       "        399,  399,  399,  399,  399,  399,  400,  400,  400,  400,  400,\n",
       "        400,  400,  400,  400,  400,  400,  400,  400,  400,  400,  400,\n",
       "        400,  400,  400,  400,  400,  400,  400,  400,  400,  400,  400,\n",
       "        400,  400,  400,  401,  401,  402,  402,  402,  403,  404,  405,\n",
       "        407,  408,  412,  413,  413,  415,  419,  420,  421,  421,  423,\n",
       "        423,  426,  426,  427,  427,  430,  431,  431,  435,  435,  435,\n",
       "        437,  437,  437,  439,  440,  440,  441,  442,  444,  446,  448,\n",
       "        449,  450,  450,  450,  450,  450,  450,  450,  450,  450,  450,\n",
       "        450,  450,  450,  450,  450,  450,  450,  450,  450,  450,  450,\n",
       "        450,  450,  450,  450,  450,  450,  450,  450,  450,  450,  450,\n",
       "        450,  450,  450,  450,  450,  450,  450,  450,  450,  450,  450,\n",
       "        450,  450,  450,  450,  450,  450,  450,  450,  451,  451,  451,\n",
       "        451,  453,  454,  454,  459,  462,  462,  462,  464,  464,  464,\n",
       "        465,  466,  467,  468,  468,  469,  470,  472,  477,  480,  480,\n",
       "        480,  480,  480,  484,  487,  488,  489,  491,  496,  500,  500,\n",
       "        500,  500,  500,  500,  500,  501,  504,  505,  510,  512,  514,\n",
       "        518,  523,  540,  544,  546,  549,  554,  559,  563,  566,  581,\n",
       "        598,  600,  600,  600,  600,  600,  600,  600,  600,  600,  616,\n",
       "        621,  630,  640,  640,  640,  649,  654,  674,  677,  680,  701,\n",
       "        728,  733,  736,  743,  750,  752,  770,  777,  800,  800,  817,\n",
       "        852,  900,  900,  901,  908,  935, 1066])"
      ]
     },
     "execution_count": 91,
     "metadata": {},
     "output_type": "execute_result"
    }
   ],
   "source": [
    "np.sort(df['height'])"
   ]
  },
  {
   "cell_type": "code",
   "execution_count": null,
   "metadata": {
    "collapsed": true
   },
   "outputs": [],
   "source": []
  },
  {
   "cell_type": "code",
   "execution_count": 32,
   "metadata": {
    "collapsed": false
   },
   "outputs": [
    {
     "name": "stdout",
     "output_type": "stream",
     "text": [
      "Help on method groupby in module pandas.core.generic:\n",
      "\n",
      "groupby(by=None, axis=0, level=None, as_index=True, sort=True, group_keys=True, squeeze=False, **kwargs) method of pandas.core.frame.DataFrame instance\n",
      "    Group series using mapper (dict or key function, apply given function\n",
      "    to group, return result as series) or by a series of columns.\n",
      "    \n",
      "    Parameters\n",
      "    ----------\n",
      "    by : mapping function / list of functions, dict, Series, or tuple /\n",
      "        list of column names.\n",
      "        Called on each element of the object index to determine the groups.\n",
      "        If a dict or Series is passed, the Series or dict VALUES will be\n",
      "        used to determine the groups\n",
      "    axis : int, default 0\n",
      "    level : int, level name, or sequence of such, default None\n",
      "        If the axis is a MultiIndex (hierarchical), group by a particular\n",
      "        level or levels\n",
      "    as_index : boolean, default True\n",
      "        For aggregated output, return object with group labels as the\n",
      "        index. Only relevant for DataFrame input. as_index=False is\n",
      "        effectively \"SQL-style\" grouped output\n",
      "    sort : boolean, default True\n",
      "        Sort group keys. Get better performance by turning this off.\n",
      "        Note this does not influence the order of observations within each\n",
      "        group.  groupby preserves the order of rows within each group.\n",
      "    group_keys : boolean, default True\n",
      "        When calling apply, add group keys to index to identify pieces\n",
      "    squeeze : boolean, default False\n",
      "        reduce the dimensionality of the return type if possible,\n",
      "        otherwise return a consistent type\n",
      "    \n",
      "    Examples\n",
      "    --------\n",
      "    DataFrame results\n",
      "    \n",
      "    >>> data.groupby(func, axis=0).mean()\n",
      "    >>> data.groupby(['col1', 'col2'])['col3'].mean()\n",
      "    \n",
      "    DataFrame with hierarchical index\n",
      "    \n",
      "    >>> data.groupby(['col1', 'col2']).mean()\n",
      "    \n",
      "    Returns\n",
      "    -------\n",
      "    GroupBy object\n",
      "\n"
     ]
    }
   ],
   "source": [
    "help(df.groupby)"
   ]
  },
  {
   "cell_type": "code",
   "execution_count": null,
   "metadata": {
    "collapsed": true
   },
   "outputs": [],
   "source": []
  }
 ],
 "metadata": {
  "anaconda-cloud": {},
  "kernelspec": {
   "display_name": "Python 3",
   "language": "python",
   "name": "python3"
  },
  "language_info": {
   "codemirror_mode": {
    "name": "ipython",
    "version": 3
   },
   "file_extension": ".py",
   "mimetype": "text/x-python",
   "name": "python",
   "nbconvert_exporter": "python",
   "pygments_lexer": "ipython3",
   "version": "3.5.2"
  }
 },
 "nbformat": 4,
 "nbformat_minor": 1
}
